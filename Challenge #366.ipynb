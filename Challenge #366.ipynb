{
 "cells": [
  {
   "cell_type": "markdown",
   "metadata": {},
   "source": [
    "### Challenge #366 [Intermediate] Word funnel 2\n",
    "\n",
    "A word funnel is a series of words formed by removing one letter at a time from a starting word, keeping the remaining letters in order. For the purpose of this challenge, a word is defined as an entry in the enable1 word list. An example of a word funnel is:\n",
    "\n",
    "gnash => gash => ash => ah\n",
    "\n",
    "This word funnel has length 4, because there are 4 words in it.\n",
    "\n",
    "Given a word, determine the length of the longest word funnel that it starts. You may optionally also return the funnel itself (or any funnel tied for the longest, in the case of a tie)."
   ]
  },
  {
   "cell_type": "code",
   "execution_count": 2,
   "metadata": {
    "collapsed": true
   },
   "outputs": [],
   "source": [
    "# Download txt from URL\n",
    "import requests\n",
    "response = requests.get('https://raw.githubusercontent.com/dolph/dictionary/master/enable1.txt')"
   ]
  },
  {
   "cell_type": "code",
   "execution_count": 3,
   "metadata": {},
   "outputs": [],
   "source": [
    "def funnel2(input_word):\n",
    "    word_funnel = 0\n",
    "    word_combinations = [(''.join(input_word[:i] + input_word[i+1:])) for i in range(0, len(input_word))]\n",
    "\n",
    "    for text_word in (response.text).split():  \n",
    "            if text_word == input_word:\n",
    "                word_funnel = 1\n",
    "                break\n",
    "\n",
    "    if word_funnel == 1: \n",
    "        while (word_combinations != []):\n",
    "            word_matches = [text_word  for text_word in (response.text).split() if text_word in word_combinations]\n",
    "\n",
    "            word_combinations = []\n",
    "            for word in word_matches:\n",
    "                for i in range(0, len(word)):\n",
    "                    word_combinations.append(''.join(word[:i] + word[i+1:]))\n",
    "\n",
    "            if word_matches != []:\n",
    "                word_funnel = word_funnel + 1\n",
    "                \n",
    "    return word_funnel"
   ]
  },
  {
   "cell_type": "code",
   "execution_count": 5,
   "metadata": {},
   "outputs": [
    {
     "name": "stdout",
     "output_type": "stream",
     "text": [
      "funnel(gnash)  ==>  4\n",
      "funnel(princesses)  ==>  9\n",
      "funnel(turntables)  ==>  5\n",
      "funnel(implosive)  ==>  1\n",
      "funnel(programmer)  ==>  2\n"
     ]
    }
   ],
   "source": [
    "print(\"funnel({})\".format(\"gnash\"), \" ==> \", funnel2(\"gnash\"))\n",
    "print(\"funnel({})\".format(\"princesses\"), \" ==> \", funnel2(\"princesses\"))\n",
    "print(\"funnel({})\".format(\"turntables\"), \" ==> \", funnel2(\"turntables\"))\n",
    "print(\"funnel({})\".format(\"implosive\"), \" ==> \", funnel2(\"implosive\"))\n",
    "print(\"funnel({})\".format(\"programmer\"), \" ==> \", funnel2(\"programmer\"))"
   ]
  }
 ],
 "metadata": {
  "kernelspec": {
   "display_name": "Python 3",
   "language": "python",
   "name": "python3"
  },
  "language_info": {
   "codemirror_mode": {
    "name": "ipython",
    "version": 3
   },
   "file_extension": ".py",
   "mimetype": "text/x-python",
   "name": "python",
   "nbconvert_exporter": "python",
   "pygments_lexer": "ipython3",
   "version": "3.6.6"
  }
 },
 "nbformat": 4,
 "nbformat_minor": 2
}
